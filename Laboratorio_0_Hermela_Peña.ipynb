{
 "cells": [
  {
   "cell_type": "markdown",
   "metadata": {},
   "source": [
    "<img src=\"http://oci02.img.iteso.mx/identidad_de_instancia_2018/ITESO/Logos%20ITESO/Logo-ITESO-Principal.jpg\">"
   ]
  },
  {
   "cell_type": "markdown",
   "metadata": {},
   "source": [
    "<center> <font color= #004A94> <font size = 6> Lic. Ingeniería Financiera </font> <br> <br> <font color= #047CFB> <font size = 4>I.F. Hermela Peña Hinojosa - if708598@iteso.mx </font>"
   ]
  },
  {
   "cell_type": "markdown",
   "metadata": {},
   "source": [
    "<center><font color= #004A94> <font size = 6> Microestructura y Sistemas de Trading </font> <br> <br>"
   ]
  },
  {
   "cell_type": "markdown",
   "metadata": {},
   "source": [
    "<center><font color=#42c29b><font size=5> Laboratorio 0: Herramientas Computacionales </font> <br> <br>"
   ]
  },
  {
   "cell_type": "markdown",
   "metadata": {},
   "source": [
    "<center> <font color= #047CFB> <font size = 4> Primavera 2020 </font>  |  <font color= #047CFB> <font size = 4> Repositorio: <a href='https://github.com/hermelap/LAB_0_HPH'>Link</a></font>"
   ]
  },
  {
   "cell_type": "markdown",
   "metadata": {},
   "source": [
    "# Resumen"
   ]
  },
  {
   "cell_type": "markdown",
   "metadata": {},
   "source": [
    " En este primer laboratorio repasamos funciones básicas de Python y aprendimos a usar el API de Oanda, se descargaron precios masivos y se visualizaron en 3 diferentes gráficas, se practicó como extraer datos y hacer cálculos sobre una base de datos."
   ]
  },
  {
   "cell_type": "markdown",
   "metadata": {},
   "source": [
    "# Código"
   ]
  },
  {
   "cell_type": "markdown",
   "metadata": {},
   "source": [
    "###### En esta sección se importaron las librerias"
   ]
  },
  {
   "cell_type": "code",
   "execution_count": null,
   "metadata": {},
   "outputs": [],
   "source": [
    "import Funciones as fn  # Para procesamiento de datos\n",
    "import visualizacion as vs  # Para visualizacion de datos\n",
    "import pandas as pd  # Procesamiento de datos\n",
    "from datos import token as OA_Ak  # Importar token para API de OANDA\n",
    "import plotly.graph_objects as go\n",
    "\n",
    "OA_In = \"EUR_USD\"  # Instrumento\n",
    "OA_Gn = \"D\"  # Granularidad de velas\n",
    "fini = pd.to_datetime(\"2019-07-06 00:00:00\").tz_localize('GMT')  # Fecha inicial\n",
    "ffin = pd.to_datetime(\"2019-12-06 00:00:00\").tz_localize('GMT')  # Fecha final\n"
   ]
  },
  {
   "cell_type": "markdown",
   "metadata": {},
   "source": [
    "##### Se importaron los precios"
   ]
  },
  {
   "cell_type": "code",
   "execution_count": null,
   "metadata": {},
   "outputs": [],
   "source": [
    "df_pe = fn.f_precios_masivos(p0_fini=fini, p1_ffin=ffin, p2_gran=OA_Gn,\n",
    "                             p3_inst=OA_In, p4_oatk=OA_Ak, p5_ginc=4900)"
   ]
  },
  {
   "cell_type": "markdown",
   "metadata": {},
   "source": [
    "##### Graficar OHLC plotly "
   ]
  },
  {
   "cell_type": "code",
   "execution_count": null,
   "metadata": {},
   "outputs": [],
   "source": [
    "vs_grafica1 = vs.g_velas(p0_de=df_pe.iloc[0:120, :])\n",
    "vs_grafica1.show()\n"
   ]
  },
  {
   "cell_type": "markdown",
   "metadata": {},
   "source": [
    "###### Conteo de velas"
   ]
  },
  {
   "cell_type": "code",
   "execution_count": null,
   "metadata": {},
   "outputs": [],
   "source": [
    "# multiplicador de precios\n",
    "pip_mult = 10000\n",
    "\n",
    "# -- 0A.1: Hora\n",
    "df_pe['hora'] = [df_pe['TimeStamp'][i].hour for i in range(0, len(df_pe['TimeStamp']))]\n",
    "\n",
    "# -- 0A.2: Dia de la semana.\n",
    "df_pe['dia'] = [df_pe['TimeStamp'][i].weekday() for i in range(0, len(df_pe['TimeStamp']))]\n",
    "\n",
    "# -- 0B: Boxplot de amplitud de velas (close - open).\n",
    "df_pe['co'] = (df_pe['Close'] - df_pe['Open']) * pip_mult\n",
    "\n",
    "# -- ------------------------------------------------------------ Graficar Boxplot plotly -- #\n",
    "vs_grafica2 = vs.g_boxplot_varios(p0_data=df_pe[['co']], p1_norm=False)\n",
    "vs_grafica2.show()"
   ]
  },
  {
   "cell_type": "markdown",
   "metadata": {},
   "source": [
    "### Ejercico 1\n",
    "###### En este ejercicio se extrajo el mes de la vela"
   ]
  },
  {
   "cell_type": "code",
   "execution_count": null,
   "metadata": {},
   "outputs": [],
   "source": [
    "df_pe['mes'] = [df_pe['TimeStamp'][i].month for i in range(0, len(df_pe['TimeStamp']))]"
   ]
  },
  {
   "cell_type": "markdown",
   "metadata": {},
   "source": [
    "### Ejercico 2 \n",
    "##### En este ejercico se obtuvo el mercado en el que ocurrio el movimiento"
   ]
  },
  {
   "cell_type": "code",
   "execution_count": null,
   "metadata": {},
   "outputs": [],
   "source": [
    "condiciones = [(lambda i: i == 22 or i == 23 or i == 0 or i == 1 or i == 2 or i == 3 or i == 4 or i == 5 or i == 6\n",
    "                          or i == 7, 'asia'),\n",
    "               (lambda i: i == 8, 'asia_europa'),\n",
    "               (lambda i: i == 9 or i == 10 or i == 11 or i == 12, 'europa'),\n",
    "               (lambda i: i == 13 or i == 14 or i == 15 or i == 16, 'europa_america'),\n",
    "               (lambda i: i == 17 or i == 18 or i == 19 or i == 20 or i == 21, 'america')]\n",
    "\n",
    "\n",
    "def condiciones2(i):\n",
    "    for cond, icion in condiciones:\n",
    "        if cond(i):\n",
    "            return icion\n",
    "    return i\n",
    "\n",
    "\n",
    "df_pe['sesion'] = list(map(condiciones2, df_pe['hora']))"
   ]
  },
  {
   "cell_type": "markdown",
   "metadata": {},
   "source": [
    "### Ejercicio 3\n",
    "##### En este ejercicio se calculo el spread entre el precio de apertura y el precio de cierre\n"
   ]
  },
  {
   "cell_type": "code",
   "execution_count": null,
   "metadata": {},
   "outputs": [],
   "source": [
    "df_pe['oc'] = (df_pe['Open'] - df_pe['Close']) * pip_mult"
   ]
  },
  {
   "cell_type": "markdown",
   "metadata": {},
   "source": [
    "### Ejercicio 4\n",
    "##### En este ejercicio se calculo el spread entre el precio máximo y el precio mínimo de cada vela"
   ]
  },
  {
   "cell_type": "code",
   "execution_count": null,
   "metadata": {},
   "outputs": [],
   "source": [
    "df_pe['hl'] = (df_pe['High'] - df_pe['Low']) * pip_mult"
   ]
  },
  {
   "cell_type": "markdown",
   "metadata": {},
   "source": [
    "### Ejercicio 5\n",
    "##### Se obtuvo el sentido de la vela"
   ]
  },
  {
   "cell_type": "code",
   "execution_count": null,
   "metadata": {},
   "outputs": [],
   "source": [
    "df_pe['sentido'] = ['alcista' if df_pe[\"Close\"][i] >= df_pe['Open'][i] else 'bajista'\n",
    "                    for i in range(0, len(df_pe['Open']))]"
   ]
  },
  {
   "cell_type": "markdown",
   "metadata": {},
   "source": [
    "### Ejercicio 6\n",
    "##### Se calcularon las repeticiones de las velas"
   ]
  },
  {
   "cell_type": "code",
   "execution_count": null,
   "metadata": {},
   "outputs": [],
   "source": [
    "df_pe['sentido_c'] = 0\n",
    "x = 0\n",
    "for i in range(1, len(df_pe['sentido_c'])):\n",
    "    if df_pe['sentido'][i] == df_pe['sentido'][i - 1]:\n",
    "        x = x + 1\n",
    "        df_pe.loc[i, 'sentido_c'] = x\n",
    "    else:\n",
    "        x = 0\n",
    "        df_pe.loc[i, 'sentido_c'] = x"
   ]
  },
  {
   "cell_type": "markdown",
   "metadata": {},
   "source": [
    "### Ejercicio 7 \n",
    "##### Se calcularon los promedios moviles respecto a la diferencia entre el precio de apertura y de cierre"
   ]
  },
  {
   "cell_type": "code",
   "execution_count": null,
   "metadata": {},
   "outputs": [],
   "source": [
    "x = df_pe.columns.get_loc('hl')\n",
    "df_pe['volatilidad_5'] = df_pe.iloc[:, x].rolling(window=5).mean()\n",
    "df_pe['volatilidad_25'] = df_pe.iloc[:, x].rolling(window=25).mean()\n",
    "df_pe['volatilidad_50'] = df_pe.iloc[:, x].rolling(window=50).mean()"
   ]
  },
  {
   "cell_type": "markdown",
   "metadata": {},
   "source": [
    "### Ejercicio 8 GRÁFICA\n",
    "##### Se grafico la ditribución de las repeticiones de las velas"
   ]
  },
  {
   "cell_type": "code",
   "execution_count": null,
   "metadata": {},
   "outputs": [],
   "source": [
    "vs_grafica3 = go.Figure()\n",
    "vs_grafica3.add_trace(go.Histogram(x=df_pe['sentido_c']))\n",
    "vs_grafica3.update_layout(title={'text': \"Distribución conteo velas consecutivas\"}, xaxis_title='repeticiones',\n",
    "                          yaxis_title='frecuencia')\n",
    "vs_grafica3.show()"
   ]
  }
 ],
 "metadata": {
  "kernelspec": {
   "display_name": "Python 3",
   "language": "python",
   "name": "python3"
  },
  "language_info": {
   "codemirror_mode": {
    "name": "ipython",
    "version": 3
   },
   "file_extension": ".py",
   "mimetype": "text/x-python",
   "name": "python",
   "nbconvert_exporter": "python",
   "pygments_lexer": "ipython3",
   "version": "3.6.5"
  }
 },
 "nbformat": 4,
 "nbformat_minor": 2
}
